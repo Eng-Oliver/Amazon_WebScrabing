{
 "cells": [
  {
   "cell_type": "code",
   "execution_count": 2,
   "id": "d511ed87-33a3-408d-acd5-49f2e596fdb4",
   "metadata": {},
   "outputs": [
    {
     "name": "stdout",
     "output_type": "stream",
     "text": [
      "Product: Apple iPhone 13 (128 GB) - Midnight with Face ID | Tax Paid | 2 Years Official Warranty | Price: Not available\n",
      "Product: Apple iPhone 16 Pro Max (256 GB) - Desert Titanium | Price: Not available\n",
      "Product: Apple iPhone 15 Plus (128 GB) - Black with Face ID | Tax Paid | 2 Years Official Warranty | Price: EGP54,99900\n",
      "Product: Apple iPhone 16 (128 GB) - White | Price: Not available\n",
      "Product: Apple iPhone 16 (128 GB) - Black with Face ID | Tax Paid | 2 Years Official Warranty | Price: EGP49,95000\n",
      "Product: Apple iPhone 16e (128 GB) - Black with Face ID | Tax Paid | 2 Years Official Warranty | Price: EGP52,77700\n",
      "Product: Apple iPhone 16 Pro (128 GB) - White Titanium with Face ID | Tax Paid | 2 Years Official Warranty | Price: EGP73,39900\n",
      "Product: Apple iPhone 16 Pro (128 GB) - Desert Titanium with Face ID | Tax Paid | 2 Years Official Warranty | Price: EGP77,99900\n",
      "Product: Apple iPad Pro 11-inch (M4): Ultra Retina XDR display, 256GB, Landscape 12MP Front Camera/12MP Back Camera, LiDAR scanner, Wi-Fi 6E + 5G Cellular with eSIM, All-Day Battery Life - Space Black | Price: EGP64,10000\n",
      "Product: Apple iPhone 16 (128 GB) - White with Face ID, (2 years Official Warranty) | Price: EGP48,95000\n",
      "Product: Apple iPhone 16 Pro (128 GB) - Black Titanium with Face ID | Tax Paid | 2 Years Official Warranty | Price: EGP77,99900\n",
      "Product: Apple iPhone 16 (128 GB) - Pink | Price: Not available\n",
      "Product: Apple iPhone 16 Plus (128 GB) - Blue with Face ID | Tax Paid | 2 Years Official Warranty | Price: EGP67,70000\n",
      "Product: Apple iPad Pro 13-Inch (M4): Built for Apple Intelligence, Ultra Retina XDR Display, 256GB, 12MP Front/Back Camera, LiDAR Scanner, Wi-Fi 6E + 5G Cellular, All-Day Battery Life — Space Black | Price: EGP66,50000\n",
      "\n",
      "Data has been saved to amazon_products.csv\n"
     ]
    }
   ],
   "source": [
    "from selenium import webdriver\n",
    "from selenium.webdriver.chrome.options import Options\n",
    "from selenium.webdriver.common.by import By\n",
    "from selenium.webdriver.support.ui import WebDriverWait\n",
    "from selenium.webdriver.support import expected_conditions as EC\n",
    "import time\n",
    "import csv\n",
    "\n",
    "# --- Browser setup ---\n",
    "options = Options()\n",
    "options.add_argument(\"--start-maximized\")\n",
    "options.add_argument(\n",
    "    \"user-agent=Mozilla/5.0 (Windows NT 10.0; Win64; x64) \"\n",
    "    \"AppleWebKit/537.36 (KHTML, like Gecko) Chrome/118.0.5993.117 Safari/537.36\"\n",
    ")\n",
    "\n",
    "driver = webdriver.Chrome(options=options)\n",
    "driver.get(\"https://www.amazon.eg/s?i=electronics&rh=n%3A21832883031%2Cp_123%3A110955\")\n",
    "\n",
    "# --- Wait until products are visible ---\n",
    "wait = WebDriverWait(driver, 15)\n",
    "items = wait.until(\n",
    "    EC.presence_of_all_elements_located(\n",
    "        (By.XPATH, \"//div[contains(@class,'s-result-item') and @data-asin!='']\")\n",
    "    )\n",
    ")\n",
    "\n",
    "results = []\n",
    "\n",
    "# --- Loop over each product ---\n",
    "for item in items:\n",
    "    # Scroll to element to ensure visibility\n",
    "    driver.execute_script(\"arguments[0].scrollIntoView({block:'center'});\", item)\n",
    "    time.sleep(0.1)\n",
    "\n",
    "    # Extract product title\n",
    "    try:\n",
    "        title = item.find_element(By.XPATH, \".//h2//span\").text.strip()\n",
    "    except:\n",
    "        title = None\n",
    "\n",
    "    # Extract product price\n",
    "    try:\n",
    "        price_container = item.find_element(By.XPATH, \".//span[@class='a-price']\")\n",
    "        price = price_container.text.replace(\"\\n\", \"\")\n",
    "    except:\n",
    "        price = None\n",
    "\n",
    "    results.append({\"title\": title, \"price\": price})\n",
    "\n",
    "# --- Print results ---\n",
    "for r in results:\n",
    "    print(f\"Product: {r['title']} | Price: {r['price'] if r['price'] else 'Not available'}\")\n",
    "\n",
    "# --- Save results into CSV file ---\n",
    "with open(\"amazon_products.csv\", \"w\", newline=\"\", encoding=\"utf-8\") as csvfile:\n",
    "    writer = csv.DictWriter(csvfile, fieldnames=[\"title\", \"price\"])\n",
    "    writer.writeheader()\n",
    "    writer.writerows(results)\n",
    "\n",
    "print(\"\\nData has been saved to amazon_products.csv\")\n",
    "\n",
    "driver.quit()\n",
    "\n"
   ]
  },
  {
   "cell_type": "code",
   "execution_count": 3,
   "id": "561c07de-5b82-4f62-b026-a72df144d537",
   "metadata": {},
   "outputs": [
    {
     "name": "stdout",
     "output_type": "stream",
     "text": [
      "C:\\Users\\ms\\amazon_products.csv\n"
     ]
    }
   ],
   "source": [
    "import os\n",
    "print(os.path.abspath(\"amazon_products.csv\"))\n",
    "\n"
   ]
  },
  {
   "cell_type": "code",
   "execution_count": null,
   "id": "bb83b86d-8562-48c4-bc1c-7ef277a2a97e",
   "metadata": {},
   "outputs": [],
   "source": []
  }
 ],
 "metadata": {
  "kernelspec": {
   "display_name": "Python 3 (ipykernel)",
   "language": "python",
   "name": "python3"
  },
  "language_info": {
   "codemirror_mode": {
    "name": "ipython",
    "version": 3
   },
   "file_extension": ".py",
   "mimetype": "text/x-python",
   "name": "python",
   "nbconvert_exporter": "python",
   "pygments_lexer": "ipython3",
   "version": "3.11.9"
  }
 },
 "nbformat": 4,
 "nbformat_minor": 5
}
